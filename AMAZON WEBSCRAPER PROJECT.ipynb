{
 "cells": [
  {
   "cell_type": "code",
   "execution_count": 1,
   "id": "d30884db",
   "metadata": {},
   "outputs": [],
   "source": [
    "#import all needed libraries\n",
    "\n",
    "from bs4 import BeautifulSoup\n",
    "import requests\n",
    "import time\n",
    "import datetime\n",
    "import smtplib"
   ]
  },
  {
   "cell_type": "code",
   "execution_count": 12,
   "id": "260866c1",
   "metadata": {},
   "outputs": [
    {
     "name": "stdout",
     "output_type": "stream",
     "text": [
      "\n",
      "            2022 Newest Lenovo Ideapad 3 Laptop, 15.6\" HD Touchscreen, 11th Gen Intel Core i3-1115G4 Processor, 8GB DDR4 RAM, 256GB PCIe NVMe SSD, HDMI, Webcam, Wi-Fi 5, Bluetooth, Windows 11 Home, Almond\n",
      "           \n",
      "\n",
      "                        $399.00\n",
      "                       \n"
     ]
    }
   ],
   "source": [
    "# connect to website\n",
    "\n",
    "URL='https://www.amazon.com/Lenovo-Ideapad-Touchscreen-i3-1005G1-Processor/dp/B08B6F1NNR/ref=sr_1_5?qid=1659684749&rnid=13896617011&s=electronics&sr=1-5'\n",
    "\n",
    "headers={'User-Agent': 'Mozilla/5.0 (Macintosh; Intel Mac OS X 10_11_5) AppleWebKit/537.36 (KHTML, like Gecko) Cafari/537.36'}\n",
    "\n",
    "page=requests.get (URL, headers=headers) \n",
    "\n",
    "soup1=BeautifulSoup(page.content,\"html.parser\")\n",
    "\n",
    "soup2=BeautifulSoup(soup1.prettify(),\"html.parser\")\n",
    "\n",
    "#to print the title\n",
    "title=soup2.find(id='productTitle').get_text()\n",
    "\n",
    "#to print the price\n",
    "price=soup2.find('span', {'class':'a-offscreen'}).get_text()\n",
    "\n",
    "print (title)\n",
    "print (price)"
   ]
  },
  {
   "cell_type": "code",
   "execution_count": 13,
   "id": "3ee04bbd",
   "metadata": {},
   "outputs": [
    {
     "name": "stdout",
     "output_type": "stream",
     "text": [
      "2022 Newest Lenovo Ideapad 3 Laptop, 15.6\" HD Touchscreen, 11th Gen Intel Core i3-1115G4 Processor, 8GB DDR4 RAM, 256GB PCIe NVMe SSD, HDMI, Webcam, Wi-Fi 5, Bluetooth, Windows 11 Home, Almond\n",
      "399.00\n"
     ]
    }
   ],
   "source": [
    "#cleaning up the data and putting in an excel file\n",
    "price=price.strip()[1:]\n",
    "title=title.strip()\n",
    "\n",
    "print(title)\n",
    "print(price)\n"
   ]
  },
  {
   "cell_type": "code",
   "execution_count": 14,
   "id": "4e694187",
   "metadata": {},
   "outputs": [
    {
     "name": "stdout",
     "output_type": "stream",
     "text": [
      "2022-08-09\n"
     ]
    }
   ],
   "source": [
    "#to create a timestamp for your output when data was collected\n",
    "import datetime\n",
    "\n",
    "today=datetime.date.today()\n",
    "print (today)\n"
   ]
  },
  {
   "cell_type": "code",
   "execution_count": 15,
   "id": "d4b009aa",
   "metadata": {},
   "outputs": [],
   "source": [
    "#create our csv,insert data into csv, have an automated process to append more data into the csv\n",
    "import csv\n",
    "header=['Title', 'Price','Date']\n",
    "data=[title, price,today] #let your data be a list\n",
    "\n",
    "with open('AmazonwebscraperDataset.csv','w',newline='',encoding='UTF8') as f: #w means write, newline prevents space in the csv when you input your data\n",
    "    writer=csv.writer(f)\n",
    "    writer.writerow(header) #inserting the header, headers will be the title and the price\n",
    "    writer.writerow(data) #inserting the data"
   ]
  },
  {
   "cell_type": "code",
   "execution_count": 16,
   "id": "1af8233a",
   "metadata": {},
   "outputs": [
    {
     "name": "stdout",
     "output_type": "stream",
     "text": [
      "                                               Title  Price        Date\n",
      "0  2022 Newest Lenovo Ideapad 3 Laptop, 15.6\" HD ...  399.0  2022-08-09\n"
     ]
    }
   ],
   "source": [
    "#to view the excel sheet without going back to excel every time\n",
    "import pandas as pd\n",
    "df=pd.read_csv(r'C:\\Users\\AIRYOLK NIGERIA LTD\\AmazonwebscraperDataset.csv')\n",
    "print (df)"
   ]
  },
  {
   "cell_type": "code",
   "execution_count": 17,
   "id": "622ad886",
   "metadata": {},
   "outputs": [],
   "source": [
    "#To add (append) data to the csv, change w from the previous line of code to a+ and remove the header since its no longer needed.\n",
    "with open('AmazonwebscraperDataset.csv','a+',newline='',encoding='UTF8') as f: #w means write, newline prevents space in the csv when you input your data\n",
    "    writer=csv.writer(f)\n",
    "    writer.writerow(data) #inserting the data"
   ]
  },
  {
   "cell_type": "code",
   "execution_count": 36,
   "id": "60d5dbdc",
   "metadata": {},
   "outputs": [],
   "source": [
    "#to automate it, so you don't have to repeat the process everytime. (combine all of the above code into one fucntion)\n",
    "\n",
    "def check_price():\n",
    "    \n",
    "    URL='https://www.amazon.com/Lenovo-Ideapad-Touchscreen-i3-1005G1-Processor/dp/B08B6F1NNR/ref=sr_1_5?qid=1659684749&rnid=13896617011&s=electronics&sr=1-5'\n",
    "\n",
    "    headers={'User-Agent': 'Mozilla/5.0 (Macintosh; Intel Mac OS X 10_11_5) AppleWebKit/537.36 (KHTML, like Gecko) Cafari/537.36'}\n",
    "\n",
    "    page=requests.get (URL, headers=headers) \n",
    "\n",
    "    soup1=BeautifulSoup(page.content,\"html.parser\")\n",
    "\n",
    "    soup2=BeautifulSoup(soup1.prettify(),\"html.parser\")\n",
    "    \n",
    "    title=soup2.find(id='productTitle').get_text()\n",
    "    \n",
    "    price=soup2.find('span', {'class':'a-offscreen'}).get_text()\n",
    "    \n",
    "    price=price.strip()[1:]\n",
    "    title=title.strip()\n",
    "\n",
    "    import datetime\n",
    "\n",
    "    today=datetime.date.today()\n",
    "    \n",
    "    import csv\n",
    "    header=['Title', 'Price','Date']\n",
    "    data=[title, price,today]\n",
    "    \n",
    "    with open('AmazonwebscraperDataset.csv','a+',newline='',encoding='UTF8') as f: #w means write, newline prevents space in the csv when you input your data\n",
    "        writer=csv.writer(f)\n",
    "        writer.writerow(data)\n",
    "        \n",
    "    if(price<300)\n",
    "        send_mail()"
   ]
  },
  {
   "cell_type": "code",
   "execution_count": null,
   "id": "45006b65",
   "metadata": {},
   "outputs": [],
   "source": [
    "#To check frequently; we'll use the time library\n",
    "\n",
    "while(True):\n",
    "    check_price()\n",
    "    time.sleep(86400)\n",
    "\n",
    "#every 24hours, it'll run the above process"
   ]
  },
  {
   "cell_type": "code",
   "execution_count": null,
   "id": "721687c3",
   "metadata": {},
   "outputs": [],
   "source": [
    "import pandas as pd\n",
    "df=pd.read_csv(r'C:\\Users\\AIRYOLK NIGERIA LTD\\AmazonwebscraperDataset.csv')\n",
    "print (df)"
   ]
  },
  {
   "cell_type": "code",
   "execution_count": null,
   "id": "47d9e519",
   "metadata": {},
   "outputs": [],
   "source": [
    "#if you want to send an email when the price hits below a certain level\n",
    "\n",
    "def send_mail():\n",
    "    server=smtplib.SMTP_SSL('smtp.gmail.com', 465)\n",
    "    server.ehlo()\n",
    "    #server.starttls()\n",
    "    server.ehlo()\n",
    "    server.login('asiegbucynthia12@gmail.com','xxxxxxxxxxxxxx')\n",
    "    \n",
    "    subject='The Laptop is below $300!, Now is your chance to buy!'\n",
    "    body='Cynthia, This is the moment we have been  waiting for. Now is your chance to get the Laptop'\n",
    "    \n",
    "    msg=f\"Subject:{subject}\\n\\n{body}\n",
    "    \n",
    "    server.sendmail(\n",
    "        'asiegbucynthia12@gmail.com',\n",
    "      msg\n",
    "    )"
   ]
  }
 ],
 "metadata": {
  "kernelspec": {
   "display_name": "Python 3 (ipykernel)",
   "language": "python",
   "name": "python3"
  },
  "language_info": {
   "codemirror_mode": {
    "name": "ipython",
    "version": 3
   },
   "file_extension": ".py",
   "mimetype": "text/x-python",
   "name": "python",
   "nbconvert_exporter": "python",
   "pygments_lexer": "ipython3",
   "version": "3.9.7"
  }
 },
 "nbformat": 4,
 "nbformat_minor": 5
}
